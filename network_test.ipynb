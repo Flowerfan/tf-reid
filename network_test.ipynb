{
 "cells": [
  {
   "cell_type": "code",
   "execution_count": null,
   "metadata": {
    "collapsed": true
   },
   "outputs": [],
   "source": [
    "import tensorflow as tf\n",
    "import os \n",
    "from PIL import Image\n",
    "import matplotlib\n",
    "%matplotlib inline\n",
    "import matplotlib.pyplot as plt\n",
    "import numpy as np\n",
    "from nets import nets_factory\n",
    "from preprocessing import preprocess_image\n",
    "from IPython.display import clear_output\n",
    "slim =tf.contrib.slim\n",
    "\n",
    "SPLITS_TO_SIZES = {'train': 12936, 'query':3800, 'test': 10000}\n",
    "_ITEMS_TO_DESCRIPTIONS = {\n",
    "    'img_raw': 'A [128 x 64 x 3] color image.',\n",
    "    'label': 'A single integer between 0 and 9',\n",
    "}\n",
    "_NUM_CLASSES = 751\n",
    "\n",
    "\n",
    "feature_map = {\n",
    "                'vgg_16': 'fc7_end_points',\n",
    "                'inception_v3':'InceptionV3/Logits/AvgPool_1a_8x8/AvgPool:0',\n",
    "                'inception_v4': 'PreLogitsFlatten',\n",
    "                'inception_resnet_v2': 'PreLogitsFlatten',\n",
    "                'resnet_v1_50': 'resnet_v1_50/pool5:0',\n",
    "                'resnet_v2_50': 'resnet_v2_50/pool5:0',\n",
    "                'mobilenet_v1': 'AvgPool_1a',\n",
    "               }"
   ]
  },
  {
   "cell_type": "markdown",
   "metadata": {},
   "source": [
    "# Function for model"
   ]
  },
  {
   "cell_type": "code",
   "execution_count": null,
   "metadata": {
    "collapsed": true
   },
   "outputs": [],
   "source": [
    "\n",
    "def input_fn(record_file,is_training=False):\n",
    "    dataset = tf.contrib.data.TFRecordDataset([record_file])\n",
    "\n",
    "    # Use `tf.parse_single_example()` to extract data from a `tf.Example`\n",
    "    # protocol buffer, and perform any additional per-record preprocessing.\n",
    "    def _parser(record):\n",
    "        keys_to_features = {\n",
    "            \"img_raw\": tf.FixedLenFeature((), tf.string, default_value=\"\"),\n",
    "            \"label\": tf.FixedLenFeature((), tf.int64,default_value=0),\n",
    "            \"cam\": tf.FixedLenFeature((), tf.int64,default_value=0)\n",
    "            }\n",
    "        parsed = tf.parse_single_example(record, keys_to_features)\n",
    "\n",
    "        # Perform additional preprocessing on the parsed data.\n",
    "        image = tf.decode_raw(parsed[\"img_raw\"],tf.uint8)\n",
    "        image = tf.reshape(image, [128, 64, 3])\n",
    "        image = preprocess_image(image,224,is_training=is_training)\n",
    "        image = tf.cast(image,tf.float32)\n",
    "        label = tf.cast(parsed[\"label\"], tf.int32)\n",
    "        cam = tf.cast(parsed[\"cam\"], tf.int32)\n",
    "        return image, label, cam\n",
    "\n",
    "    # Use `Dataset.map()` to build a pair of a feature dictionary and a label\n",
    "    # tensor for each example.\n",
    "    if is_training:\n",
    "        dataset = dataset.repeat()\n",
    "        dataset = dataset.shuffle(10000)\n",
    "    dataset = dataset.map(_parser)\n",
    "    dataset = dataset.batch(32)\n",
    "    iterator = dataset.make_one_shot_iterator()\n",
    "\n",
    "    # `features` is a dictionary in which each value is a batch of values for\n",
    "    # that feature; `labels` is a batch of labels.\n",
    "    \n",
    "    imgs, labels, cams = iterator.get_next()\n",
    "    return imgs, labels, cams\n",
    "\n",
    "\n",
    "def get_restore_variabels():\n",
    "    exclusions = []\n",
    "    \n",
    "    checkpoint_exclude_scopes=[\"resnet_v1_50/logit\"]\n",
    "    \n",
    "    exclusions = [scope.strip() for scope in checkpoint_exclude_scopes]\n",
    "\n",
    "    # TODO(sguada) variables.filter_variables()\n",
    "    variables_to_restore = []\n",
    "    for var in slim.get_model_variables():\n",
    "        excluded = False\n",
    "        for exclusion in exclusions:\n",
    "            if var.op.name.startswith(exclusion):\n",
    "                excluded = True\n",
    "                break\n",
    "        if not excluded:\n",
    "            variables_to_restore.append(var)\n",
    "\n",
    "    return variables_to_restore\n",
    "\n",
    "\n",
    "def initialize_uninitialized_vars(sess):\n",
    "    from itertools import compress\n",
    "    global_vars = tf.global_variables()\n",
    "    is_not_initialized = sess.run([~(tf.is_variable_initialized(var)) \\\n",
    "                                   for var in global_vars])\n",
    "    not_initialized_vars = list(compress(global_vars, is_not_initialized))\n",
    "\n",
    "    if len(not_initialized_vars):\n",
    "        sess.run(tf.variables_initializer(not_initialized_vars))\n",
    "\n",
    "        \n",
    " "
   ]
  },
  {
   "cell_type": "markdown",
   "metadata": {},
   "source": [
    "# Training model"
   ]
  },
  {
   "cell_type": "code",
   "execution_count": null,
   "metadata": {},
   "outputs": [],
   "source": [
    "mean_loss = 0\n",
    "with tf.Graph().as_default() as graph:\n",
    "    ##### get train image\n",
    "    record_file = '/tmp/Market-1501/market-1501_train.tfrecord'\n",
    "    images,labels,cam = input_fn(record_file,True)\n",
    "    labels = tf.contrib.layers.one_hot_encoding(labels,751)\n",
    "    \n",
    "    ####  build the network\n",
    "    network_fn = nets_factory.get_network_fn('resnet_v1_50',num_classes=751,is_training=True,weight_decay=0.0005)\n",
    "#     image_input = tf.placeholder(dtype=tf.float32,shape=[None,224,224,3],name=\"input\")\n",
    "\n",
    "    ###  inference and define the loss\n",
    "    logits, _ = network_fn(images)\n",
    "    total_loss = tf.losses.softmax_cross_entropy(logits=logits, onehot_labels=labels)\n",
    "    \n",
    "    ### get train_op\n",
    "    optimizer = tf.train.GradientDescentOptimizer(learning_rate=0.0001)\n",
    "    train_op = optimizer.minimize(total_loss,global_step=tf.train.get_global_step())\n",
    "    \n",
    "    ### restore variables\n",
    "    variables_to_restore = get_restore_variabels()\n",
    "#     restore_saver = tf.train.Saver(variables_to_restore)\n",
    "    saver = tf.train.Saver()\n",
    "    with tf.Session() as sess:\n",
    "        \n",
    "        #### initialize all the variabels\n",
    "        init_op = tf.global_variables_initializer()\n",
    "        sess.run(init_op)\n",
    "#         restore_saver.restore(sess, '/tmp/checkpoints/market-1501/pretrain/resnet_v1_50.ckpt')\n",
    "        saver.restore(sess,'/tmp/checkpoints/market-1501/resnet_v1_50/model.ckpt-16000')\n",
    "#         initialize_uninitialized_vars(sess)\n",
    "\n",
    "        ### start training\n",
    "        for i in range(16001,18001):\n",
    "            try:\n",
    "                _,loss = sess.run([train_op,total_loss])\n",
    "                mean_loss += loss\n",
    "                print(\"step: %s , loss: %s\"%(i,loss))\n",
    "                if i%30 == 0:\n",
    "                    clear_output()\n",
    "                    print('last 30 step mean loss:%f'%(mean_loss/30))\n",
    "                    mean_loss = 0\n",
    "                if i % 1000 ==0:\n",
    "                    saver.save(sess,'/tmp/checkpoints/market-1501/resnet_v1_50/model.ckpt',global_step=i)\n",
    "            except tf.errors.OutOfRangeError:\n",
    "                break\n"
   ]
  },
  {
   "cell_type": "code",
   "execution_count": null,
   "metadata": {
    "collapsed": true
   },
   "outputs": [],
   "source": [
    "tf.train.latest_checkpoint('/tmp/checkpoints/market-1501/resnet_v1_50')"
   ]
  },
  {
   "cell_type": "markdown",
   "metadata": {},
   "source": [
    "# Check graph operations "
   ]
  },
  {
   "cell_type": "code",
   "execution_count": null,
   "metadata": {
    "collapsed": true
   },
   "outputs": [],
   "source": [
    "tf.reset_default_graph()\n",
    "# record_file = '/tmp/Market-1501/market-1501_train.tfrecord'\n",
    "# images,labels,cam = input_fn(record_file,True)\n",
    "# labels = tf.contrib.layers.one_hot_encoding(labels,751)\n",
    "# network_fn = nets_factory.get_network_fn('resnet_v1_50',num_classes=751,is_training=True)\n",
    "# image_input = tf.placeholder(dtype=tf.float32,shape=[None,224,224,3],name=\"input\")\n",
    "# logits, _ = network_fn(images)\n",
    "# variables_to_restore = get_restore_variabels()\n",
    "# saver = tf.train.Saver(variables_to_restore,max_to_keep=4)\n",
    "saver = tf.train.import_meta_graph('/tmp/checkpoints/market-1501/resnet_v1_50/model.ckpt-10000.meta')\n",
    "\n",
    "feature_name = feature_map['resnet_v1_50']\n",
    "feature = tf.get_default_graph().get_tensor_by_name(name=feature_name)\n",
    "feature = tf.squeeze(feature)\n",
    "#         variables_to_restore = get_restore_variabels()\n",
    "#         saver = tf.train.Saver(variables_to_restore)\n",
    "sess = tf.Session()\n",
    "saver.restore(sess,'/tmp/checkpoints/market-1501/resnet_v1_50/model.ckpt-10000')\n",
    "\n",
    "# a = sess.run(sess.graph.get_tensor_by_name('IteratorGetNext:0'))\n",
    "#         softmax_tensor = sess.graph.get_tensor_by_name('resnet_v1_50/Pad/input:0')\n",
    "#         softmax_tensor\n",
    "#     tf.GraphKeys.GLOBAL_VARIABLES\n",
    "#     sess.graph.get_all_collection_keys()\n",
    "\n",
    "\n",
    "#     tf.get_collection('model_variables')"
   ]
  },
  {
   "cell_type": "code",
   "execution_count": null,
   "metadata": {
    "collapsed": true
   },
   "outputs": [],
   "source": [
    "ops = tf.get_default_graph().get_operations()\n",
    "print(sess.run(feature).shape)"
   ]
  },
  {
   "cell_type": "code",
   "execution_count": null,
   "metadata": {
    "collapsed": true
   },
   "outputs": [],
   "source": [
    "aa = []\n",
    "img_tensor = sess.graph.get_tensor_by_name('IteratorGetNext:0')\n",
    "filenames  = sess.graph.get_tensor_by_name('filenames:0')\n",
    "count = sess.graph.get_tensor_by_name('count:0')\n",
    "batch_size = sess.graph.get_tensor_by_name('buffer_size:0')\n",
    "label = sess.graph.get_tensor_by_name('OneHotEncoding/ToInt64:0')\n",
    "a = sess.run(label,feed_dict={\"filenames:0\":['/tmp/Market-1501/market-1501_query.tfrecord'],\"count:0\":1,\"seed:0\":0,\"seed2:0\":0})\n",
    "print(a)\n",
    "# while True:\n",
    "#     try:\n",
    "#         a = sess.run(img_tensor)\n",
    "#         aa += [a]\n",
    "#     except tf.errors.OutOfRangeError:\n",
    "#         break\n",
    "# np.concatenate(aa).shape"
   ]
  },
  {
   "cell_type": "markdown",
   "metadata": {},
   "source": [
    "# Extract features"
   ]
  },
  {
   "cell_type": "code",
   "execution_count": null,
   "metadata": {},
   "outputs": [],
   "source": [
    "features = []\n",
    "classes = []\n",
    "cameras = []\n",
    "split_name = 'test'\n",
    "check_step = 18000\n",
    "record_file='/tmp/Market-1501/market-1501_%s.tfrecord'%split_name\n",
    "with tf.Graph().as_default():\n",
    "    images,labels,cams = input_fn(record_file)\n",
    "    image_input = tf.placeholder(dtype=tf.float32,shape=[None,224,224,3],name=\"input\")\n",
    "#     network_fn = nets_factory.get_network_fn('resnet_v1_50',num_classes=751)\n",
    "        \n",
    "    logits, _ = network_fn(images)\n",
    "        \n",
    "        \n",
    "#         saver = tf.train.import_meta_graph('/tmp/checkpoints/market-1501/resnet_v1_50/model.ckpt-16000.meta')\n",
    "            \n",
    "    feature_name = feature_map['resnet_v1_50']\n",
    "    feature = tf.get_default_graph().get_tensor_by_name(name=feature_name)\n",
    "    feature = tf.squeeze(feature)\n",
    "    saver = tf.train.Saver()\n",
    "    with tf.Session() as sess:\n",
    "        saver.restore(sess,'/tmp/checkpoints/market-1501/resnet_v1_50/model.ckpt-%s'%check_step)\n",
    "        initialize_uninitialized_vars(sess)\n",
    "        while True:\n",
    "            try:\n",
    "#                 np_img, np_label, np_cam = sess.run([images,labels,cams])\n",
    "#                 np_feature = sess.run(feature,feed_dict={image_input:np_img})\n",
    "                np_feature,np_label,np_cam = sess.run([feature,labels,cams])\n",
    "                assert np_feature.shape[0] == np_label.shape[0]\n",
    "                features += [np_feature]\n",
    "                classes += [np_label]\n",
    "                cameras += [np_cam]\n",
    "            except tf.errors.OutOfRangeError:\n",
    "                break\n",
    "\n",
    "features = np.concatenate(features)\n",
    "classes = np.concatenate(classes)\n",
    "cameras = np.concatenate(cameras)\n",
    "np.savez('/tmp/Market-1501/feature/%s'%split_name,feature=features,label=classes,cam=cameras)"
   ]
  },
  {
   "cell_type": "code",
   "execution_count": null,
   "metadata": {
    "collapsed": true
   },
   "outputs": [],
   "source": [
    "tf.reset_default_graph()"
   ]
  },
  {
   "cell_type": "code",
   "execution_count": null,
   "metadata": {
    "collapsed": true
   },
   "outputs": [],
   "source": []
  },
  {
   "cell_type": "code",
   "execution_count": null,
   "metadata": {
    "collapsed": true
   },
   "outputs": [],
   "source": [
    "g1 = tf.Graph()\n",
    "g2 = tf.Graph()\n",
    "with g1.as_default():\n",
    "\n",
    "#     variables_to_restore = get_restore_variabels()\n",
    "    saver = tf.train.import_meta_graph('/tmp/checkpoints/market-1501/resnet_v1_50/model.ckpt-16000.meta')\n",
    "    v1  = slim.get_model_variables()\n",
    "#     with tf.Session() as sess:\n",
    "#         saver.restore(sess,'/tmp/checkpoints/market-1501/resnet_v1_50/model.ckpt-16000')\n",
    "#     for v in slim.get_model_variables():\n",
    "#         print(v)\n",
    "with g2.as_default():\n",
    "    images,labels,cams = input_fn(record_file)\n",
    "    image_input = tf.placeholder(dtype=tf.float32,shape=[None,224,224,3],name=\"input\")\n",
    "    network_fn = nets_factory.get_network_fn('resnet_v1_50',num_classes=751)\n",
    "    logits, _ = network_fn(images)\n",
    "    v2 = slim.get_model_variables()\n",
    "\n",
    "for x,y in zip(v1,v2):\n",
    "    print(x,y,'\\n\\n\\n')\n",
    "    "
   ]
  },
  {
   "cell_type": "code",
   "execution_count": null,
   "metadata": {
    "collapsed": true
   },
   "outputs": [],
   "source": [
    "len(v1)"
   ]
  }
 ],
 "metadata": {
  "kernelspec": {
   "display_name": "Python 3",
   "language": "python",
   "name": "python3"
  },
  "language_info": {
   "codemirror_mode": {
    "name": "ipython",
    "version": 3
   },
   "file_extension": ".py",
   "mimetype": "text/x-python",
   "name": "python",
   "nbconvert_exporter": "python",
   "pygments_lexer": "ipython3",
   "version": "3.5.3"
  }
 },
 "nbformat": 4,
 "nbformat_minor": 2
}
