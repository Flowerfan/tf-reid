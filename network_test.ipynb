{
 "cells": [
  {
   "cell_type": "code",
   "execution_count": 1,
   "metadata": {
    "collapsed": true
   },
   "outputs": [],
   "source": [
    "import tensorflow as tf\n",
    "import os \n",
    "from PIL import Image\n",
    "import matplotlib\n",
    "%matplotlib inline\n",
    "import matplotlib.pyplot as plt\n",
    "import numpy as np\n",
    "from nets import nets_factory\n",
    "from preprocessing import preprocess_image\n",
    "from IPython.display import clear_output\n",
    "slim =tf.contrib.slim\n",
    "\n",
    "SPLITS_TO_SIZES = {'train': 12936, 'query':3800, 'test': 10000}\n",
    "_ITEMS_TO_DESCRIPTIONS = {\n",
    "    'img_raw': 'A [128 x 64 x 3] color image.',\n",
    "    'label': 'A single integer between 0 and 9',\n",
    "}\n",
    "_NUM_CLASSES = 751"
   ]
  },
  {
   "cell_type": "code",
   "execution_count": 3,
   "metadata": {
    "collapsed": true
   },
   "outputs": [],
   "source": [
    "\n",
    "def input_fn():\n",
    "    dataset = tf.contrib.data.TFRecordDataset(['/tmp/Market-1501/market-1501_query.tfrecord'])\n",
    "\n",
    "    # Use `tf.parse_single_example()` to extract data from a `tf.Example`\n",
    "    # protocol buffer, and perform any additional per-record preprocessing.\n",
    "    def _parser(record):\n",
    "        keys_to_features = {\n",
    "            \"img_raw\": tf.FixedLenFeature((), tf.string, default_value=\"\"),\n",
    "            \"label\": tf.FixedLenFeature((), tf.int64,default_value=0),\n",
    "            \"cam\": tf.FixedLenFeature((), tf.int64,default_value=0)\n",
    "            }\n",
    "        parsed = tf.parse_single_example(record, keys_to_features)\n",
    "\n",
    "        # Perform additional preprocessing on the parsed data.\n",
    "        image = tf.decode_raw(parsed[\"img_raw\"],tf.uint8)\n",
    "        image = tf.reshape(image, [128, 64, 3])\n",
    "#         image = tf.cast(image,tf.float32)\n",
    "        image = preprocess_image(image,224,224,is_training=True)\n",
    "        label = tf.cast(parsed[\"label\"], tf.int32)\n",
    "        cam = tf.cast(parsed[\"cam\"], tf.int32)\n",
    "        return image, label, cam\n",
    "\n",
    "    # Use `Dataset.map()` to build a pair of a feature dictionary and a label\n",
    "    # tensor for each example.\n",
    "    dataset = dataset.map(_parser)\n",
    "    dataset = dataset.repeat()\n",
    "    dataset = dataset.batch(32)\n",
    "#     if is_training:\n",
    "#         dataset = dataset.shuffle(buffer_size=10000)\n",
    "    iterator = dataset.make_one_shot_iterator()\n",
    "\n",
    "    # `features` is a dictionary in which each value is a batch of values for\n",
    "    # that feature; `labels` is a batch of labels.\n",
    "    \n",
    "    imgs, labels, cams = iterator.get_next()\n",
    "    return imgs, labels, cams\n",
    "\n",
    "\n",
    "def get_restore_variabels():\n",
    "    exclusions = []\n",
    "    \n",
    "    checkpoint_exclude_scopes=[\"resnet_v1_50/logit\"]\n",
    "    \n",
    "    exclusions = [scope.strip() for scope in checkpoint_exclude_scopes]\n",
    "\n",
    "    # TODO(sguada) variables.filter_variables()\n",
    "    variables_to_restore = []\n",
    "    for var in slim.get_model_variables():\n",
    "        excluded = False\n",
    "        for exclusion in exclusions:\n",
    "            if var.op.name.startswith(exclusion):\n",
    "                excluded = True\n",
    "                break\n",
    "        if not excluded:\n",
    "            variables_to_restore.append(var)\n",
    "\n",
    "    return variables_to_restore\n",
    "\n",
    "\n",
    "def initialize_uninitialized_vars(sess):\n",
    "    from itertools import compress\n",
    "    global_vars = tf.global_variables()\n",
    "    is_not_initialized = sess.run([~(tf.is_variable_initialized(var)) \\\n",
    "                                   for var in global_vars])\n",
    "    not_initialized_vars = list(compress(global_vars, is_not_initialized))\n",
    "\n",
    "    if len(not_initialized_vars):\n",
    "        sess.run(tf.variables_initializer(not_initialized_vars))\n",
    "\n",
    "        \n",
    " "
   ]
  },
  {
   "cell_type": "code",
   "execution_count": null,
   "metadata": {},
   "outputs": [
    {
     "name": "stdout",
     "output_type": "stream",
     "text": [
      "step: 1121 , loss: 6.60209\n",
      "step: 1122 , loss: 6.60681\n",
      "step: 1123 , loss: 6.62193\n",
      "step: 1124 , loss: 6.6069\n",
      "step: 1125 , loss: 6.63948\n",
      "step: 1126 , loss: 6.61751\n"
     ]
    }
   ],
   "source": [
    "\n",
    "with tf.Graph().as_default() as graph:\n",
    "\n",
    "    images,labels,cam = input_fn()\n",
    "    labels = tf.contrib.layers.one_hot_encoding(labels,751)\n",
    "    network_fn = nets_factory.get_network_fn('resnet_v1_50',num_classes=751)\n",
    "    logits, _ = network_fn(images)\n",
    "    variables_to_restore = get_restore_variabels()\n",
    "    saver = tf.train.Saver(variables_to_restore,max_to_keep=4)\n",
    "    \n",
    "    with tf.Session() as sess:\n",
    "#         image = graph.get_tensor_by_name('reshape_7:0')\n",
    "\n",
    "        saver.restore(sess, '/tmp/checkpoints/market-1501/pretrain/resnet_v1_50.ckpt')\n",
    "\n",
    "        tf.losses.softmax_cross_entropy(logits=logits, onehot_labels=labels)\n",
    "        total_loss = tf.losses.get_total_loss()\n",
    "        optimizer = tf.train.RMSPropOptimizer(learning_rate=0.001)\n",
    "        train_op = optimizer.minimize(total_loss,global_step=tf.train.get_global_step())\n",
    "\n",
    "        initialize_uninitialized_vars(sess)\n",
    "        for i in range(18000):\n",
    "#         while True:\n",
    "            try:\n",
    "#                 im,ll = sess.run([images,labels])\n",
    "                _,loss = sess.run([train_op,total_loss])\n",
    "#                 lls += [ll]\n",
    "                print(\"step: %s , loss: %s\"%(i,loss))\n",
    "                if i%20 == 0:\n",
    "                    clear_output()\n",
    "                if i % 2000 ==0:\n",
    "                    saver.save(sess,'/tmp/checkpoints/market-1501/resnet_v1_50/',global_step=i)\n",
    "            except tf.errors.OutOfRangeError:\n",
    "                break\n",
    "np.array(lls).shape"
   ]
  },
  {
   "cell_type": "code",
   "execution_count": 12,
   "metadata": {},
   "outputs": [
    {
     "data": {
      "text/plain": [
       "()"
      ]
     },
     "execution_count": 12,
     "metadata": {},
     "output_type": "execute_result"
    }
   ],
   "source": []
  },
  {
   "cell_type": "markdown",
   "metadata": {},
   "source": [
    "# Check graph operations "
   ]
  },
  {
   "cell_type": "code",
   "execution_count": null,
   "metadata": {
    "collapsed": true
   },
   "outputs": [],
   "source": [
    "# softmax_tensor = endpoints['resnet_v1_50/block4/unit_3/bottleneck_v1']\n",
    "softmax_tensor = sess.graph.get_tensor_by_name('resnet_v1_50/Pad/input:0')\n",
    "softmax_tensor\n",
    "# tf.GraphKeys.GLOBAL_VARIABLES\n",
    "# sess.graph.get_all_collection_keys()\n",
    "# for op in sess.graph.get_operations():\n",
    "#     print( op.name)\n",
    "\n",
    "# tf.get_collection('model_variables')"
   ]
  },
  {
   "cell_type": "markdown",
   "metadata": {},
   "source": [
    "# Extract features"
   ]
  },
  {
   "cell_type": "code",
   "execution_count": null,
   "metadata": {
    "collapsed": true
   },
   "outputs": [],
   "source": [
    "\n",
    "feature_map = {\n",
    "                'vgg_16': 'fc7_end_points',\n",
    "                'inception_v3':'PreLogits',\n",
    "                'inception_v4': 'PreLogitsFlatten',\n",
    "                'inception_resnet_v2': 'PreLogitsFlatten',\n",
    "                'resnet_v1_50': 'pool5_end_points',\n",
    "                'resnet_v2_50': 'pool5_end_points',\n",
    "                'mobilenet_v1': 'AvgPool_1a',\n",
    "               }\n",
    "\n",
    "\n",
    "features = []\n",
    "classes = []\n",
    "cameras = []\n",
    "record_file='/tmp/Market-1501/market-1501_query.tfrecord'\n",
    "with tf.Graph().as_default():\n",
    "    with tf.Session() as sess:\n",
    "    #     init_op = tf.global_variables_initializer()\n",
    "    #     sess.run(init_op)\n",
    "    #     coord = tf.train.Coordinator()\n",
    "    #     threads = tf.train.start_queue_runners(coord=coord)\n",
    "        image,label,cam = input_fn(record_file)\n",
    "        network_fn = nets_factory.get_network_fn('inception_v3',num_classes=751)\n",
    "        train_image_size = network_fn.default_image_size\n",
    "        image = preprocess_image(image,train_image_size,train_image_size)\n",
    "        images,labels,cams = tf.train.batch([image,label,cam],batch_size=32)\n",
    "\n",
    "        logits, endpoints = network_fn(images)\n",
    "        \n",
    "        \n",
    "        \n",
    "        for k in endpoints:\n",
    "            print(k,'sssssss',endpoints[k])\n",
    "    #     images,labels,cams = tf.train.batch([image,label,cam],batch_size=4)\n",
    "    #     for i in range(3):\n",
    "    # #     while True:\n",
    "    #         try:\n",
    "    #             aa,bb,cc = sess.run([image,label,cam])\n",
    "    #             features += [aa]\n",
    "    #             classes += [bb]\n",
    "    #             cameras += [cc]\n",
    "    #         except tf.errors.OutOfRangeError:\n",
    "    #             break\n",
    "    #     coord.request_stop()\n",
    "\n",
    "    #     coord.join(threads)\n"
   ]
  }
 ],
 "metadata": {
  "kernelspec": {
   "display_name": "Python 3",
   "language": "python",
   "name": "python3"
  },
  "language_info": {
   "codemirror_mode": {
    "name": "ipython",
    "version": 3
   },
   "file_extension": ".py",
   "mimetype": "text/x-python",
   "name": "python",
   "nbconvert_exporter": "python",
   "pygments_lexer": "ipython3",
   "version": "3.5.3"
  }
 },
 "nbformat": 4,
 "nbformat_minor": 2
}
